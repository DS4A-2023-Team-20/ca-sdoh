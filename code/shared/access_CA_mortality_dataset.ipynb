{
 "cells": [
  {
   "attachments": {},
   "cell_type": "markdown",
   "metadata": {},
   "source": [
    "## Access CA Mortality Dataset \n",
    "Initial notebook to access the CA mortality dataset [here](https://data.ca.gov/dataset/california-hospital-inpatient-mortality-rates-and-quality-ratings)\n"
   ]
  },
  {
   "cell_type": "code",
   "execution_count": 1,
   "metadata": {},
   "outputs": [],
   "source": [
    "import urllib.request\n",
    "import json"
   ]
  },
  {
   "cell_type": "code",
   "execution_count": 4,
   "metadata": {},
   "outputs": [],
   "source": [
    "\n",
    "url = 'https://data.ca.gov/api/3/action/datastore_search?resource_id=bf54128a-953a-4f8b-9b83-3e55458a23e3&limit=5&q=title:jones'  \n",
    "fileobj = urllib.request.urlopen(url)\n",
    "response_dict = json.loads(fileobj.read())"
   ]
  },
  {
   "cell_type": "code",
   "execution_count": 19,
   "metadata": {},
   "outputs": [
    {
     "name": "stdout",
     "output_type": "stream",
     "text": [
      "dict_keys(['help', 'success', 'result'])\n"
     ]
    },
    {
     "data": {
      "text/plain": [
       "dict_keys(['include_total', 'resource_id', 'fields', 'records_format', 'q', 'records', 'limit', '_links', 'total'])"
      ]
     },
     "execution_count": 19,
     "metadata": {},
     "output_type": "execute_result"
    }
   ],
   "source": [
    "print(response_dict.keys())\n",
    "response_dict['result'].keys()"
   ]
  },
  {
   "cell_type": "code",
   "execution_count": 22,
   "metadata": {},
   "outputs": [
    {
     "data": {
      "text/plain": [
       "{'include_total': True,\n",
       " 'resource_id': 'bf54128a-953a-4f8b-9b83-3e55458a23e3',\n",
       " 'fields': [{'type': 'int', 'id': '_id'},\n",
       "  {'type': 'text', 'id': 'YEAR'},\n",
       "  {'type': 'text', 'id': 'COUNTY'},\n",
       "  {'type': 'text', 'id': 'HOSPITAL'},\n",
       "  {'type': 'text', 'id': 'OSHPDID'},\n",
       "  {'type': 'text', 'id': 'Procedure/Condition'},\n",
       "  {'type': 'text', 'id': 'Risk Adjuested Mortality Rate'},\n",
       "  {'type': 'text', 'id': '# of Deaths'},\n",
       "  {'type': 'text', 'id': '# of Cases'},\n",
       "  {'type': 'text', 'id': 'Hospital Ratings'},\n",
       "  {'type': 'text', 'id': 'LONGITUDE'},\n",
       "  {'type': 'text', 'id': 'LATITUDE'},\n",
       "  {'type': 'float', 'id': 'rank'}],\n",
       " 'records_format': 'objects',\n",
       " 'q': 'title:jones',\n",
       " 'records': [],\n",
       " 'limit': 5,\n",
       " '_links': {'start': '/api/3/action/datastore_search?q=title%3Ajones&limit=5&resource_id=bf54128a-953a-4f8b-9b83-3e55458a23e3',\n",
       "  'next': '/api/3/action/datastore_search?q=title%3Ajones&offset=5&limit=5&resource_id=bf54128a-953a-4f8b-9b83-3e55458a23e3'},\n",
       " 'total': 0}"
      ]
     },
     "execution_count": 22,
     "metadata": {},
     "output_type": "execute_result"
    }
   ],
   "source": [
    "response_dict['result']"
   ]
  },
  {
   "attachments": {},
   "cell_type": "markdown",
   "metadata": {},
   "source": [
    "Looks like a little bit more work with API is needed. Alternatively, can download `.csv` from the main website."
   ]
  }
 ],
 "metadata": {
  "kernelspec": {
   "display_name": "ds4a_py310",
   "language": "python",
   "name": "ds4a_py310"
  },
  "language_info": {
   "codemirror_mode": {
    "name": "ipython",
    "version": 3
   },
   "file_extension": ".py",
   "mimetype": "text/x-python",
   "name": "python",
   "nbconvert_exporter": "python",
   "pygments_lexer": "ipython3",
   "version": "3.10.0"
  },
  "orig_nbformat": 4
 },
 "nbformat": 4,
 "nbformat_minor": 2
}
