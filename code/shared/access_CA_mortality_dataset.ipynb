{
 "cells": [
  {
   "cell_type": "code",
   "execution_count": null,
   "metadata": {},
   "outputs": [],
   "source": [
    "import json\n",
    "import urllib.request\n"
   ]
  },
  {
   "cell_type": "code",
   "execution_count": null,
   "metadata": {},
   "outputs": [],
   "source": [
    "\n",
    "url = 'https://data.ca.gov/api/3/action/datastore_search?resource_id=bf54128a-953a-4f8b-9b83-3e55458a23e3&limit=5&q=title:jones'  \n",
    "fileobj = urllib.request.urlopen(url)\n",
    "response_dict = json.loads(fileobj.read())\n",
    "print(response_dict)"
   ]
  }
 ],
 "metadata": {
  "language_info": {
   "name": "python"
  },
  "orig_nbformat": 4
 },
 "nbformat": 4,
 "nbformat_minor": 2
}
