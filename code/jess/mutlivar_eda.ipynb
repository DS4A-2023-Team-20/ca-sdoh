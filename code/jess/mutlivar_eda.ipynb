{
 "cells": [
  {
   "cell_type": "code",
   "execution_count": 45,
   "metadata": {},
   "outputs": [],
   "source": [
    "import matplotlib.pyplot as plt\n",
    "import pandas as pd\n",
    "import seaborn as sns\n",
    "\n",
    "# from pandas_profiling import ProfileReport"
   ]
  },
  {
   "cell_type": "code",
   "execution_count": 6,
   "metadata": {},
   "outputs": [],
   "source": [
    "cols_of_interest = [\n",
    "    \"hospital_ownership\",\n",
    "    \"payment\",\n",
    "    \"average_hcc_beneficiary_risk_score\",\n",
    "    \"socioeconomic_status_sum\",\n",
    "    \"hh_characteristics_sum\",\n",
    "    \"minority_status_sum\",\n",
    "    \"housing_status_sum\",\n",
    "    \"series_themes_sum\",\n",
    "    \"overall_hosp_linear_mean_value\",\n",
    "    \"patient_safety_score\",\n",
    "    \"readmission_rate\",\n",
    "    \"condition_name\",\n",
    "]"
   ]
  },
  {
   "cell_type": "code",
   "execution_count": 7,
   "metadata": {},
   "outputs": [],
   "source": [
    "obt = pd.read_csv(\n",
    "    \"/Users/jessbreda/Desktop/github/ca-sdoh/data/obt_slim.csv\",\n",
    "    usecols=cols_of_interest,\n",
    ")"
   ]
  },
  {
   "cell_type": "code",
   "execution_count": 8,
   "metadata": {},
   "outputs": [],
   "source": [
    "obt.dropna(inplace=True)"
   ]
  },
  {
   "cell_type": "code",
   "execution_count": 22,
   "metadata": {},
   "outputs": [],
   "source": [
    "obt_pn = obt.query(\"condition_name == 'Pneumonia'\", inplace=False)"
   ]
  },
  {
   "cell_type": "code",
   "execution_count": 20,
   "metadata": {},
   "outputs": [
    {
     "data": {
      "application/vnd.jupyter.widget-view+json": {
       "model_id": "23f6b8f5a4894ee6b8b0a651218fc675",
       "version_major": 2,
       "version_minor": 0
      },
      "text/plain": [
       "Summarize dataset:   0%|          | 0/5 [00:00<?, ?it/s]"
      ]
     },
     "metadata": {},
     "output_type": "display_data"
    },
    {
     "data": {
      "application/vnd.jupyter.widget-view+json": {
       "model_id": "3b41bccdd2a7445ca5e01bf83ff9a91c",
       "version_major": 2,
       "version_minor": 0
      },
      "text/plain": [
       "Generate report structure:   0%|          | 0/1 [00:00<?, ?it/s]"
      ]
     },
     "metadata": {},
     "output_type": "display_data"
    },
    {
     "data": {
      "application/vnd.jupyter.widget-view+json": {
       "model_id": "8d001ab816434ae5a39335f8a682da09",
       "version_major": 2,
       "version_minor": 0
      },
      "text/plain": [
       "Render HTML:   0%|          | 0/1 [00:00<?, ?it/s]"
      ]
     },
     "metadata": {},
     "output_type": "display_data"
    },
    {
     "data": {
      "application/vnd.jupyter.widget-view+json": {
       "model_id": "d3b7694fb7cc4c75911998bc71c5ad9e",
       "version_major": 2,
       "version_minor": 0
      },
      "text/plain": [
       "Export report to file:   0%|          | 0/1 [00:00<?, ?it/s]"
      ]
     },
     "metadata": {},
     "output_type": "display_data"
    }
   ],
   "source": [
    "profile = ProfileReport(obt)\n",
    "profile.to_file(\"report.html\")"
   ]
  },
  {
   "cell_type": "code",
   "execution_count": 31,
   "metadata": {},
   "outputs": [],
   "source": [
    "column_to_drop = [\"condition_name\", \"hospital_ownership\", \"payment\"]"
   ]
  },
  {
   "cell_type": "code",
   "execution_count": null,
   "metadata": {},
   "outputs": [],
   "source": []
  },
  {
   "cell_type": "code",
   "execution_count": 33,
   "metadata": {},
   "outputs": [
    {
     "data": {
      "text/html": [
       "<div>\n",
       "<style scoped>\n",
       "    .dataframe tbody tr th:only-of-type {\n",
       "        vertical-align: middle;\n",
       "    }\n",
       "\n",
       "    .dataframe tbody tr th {\n",
       "        vertical-align: top;\n",
       "    }\n",
       "\n",
       "    .dataframe thead th {\n",
       "        text-align: right;\n",
       "    }\n",
       "</style>\n",
       "<table border=\"1\" class=\"dataframe\">\n",
       "  <thead>\n",
       "    <tr style=\"text-align: right;\">\n",
       "      <th></th>\n",
       "      <th>readmission_rate</th>\n",
       "      <th>average_hcc_beneficiary_risk_score</th>\n",
       "      <th>socioeconomic_status_sum</th>\n",
       "      <th>hh_characteristics_sum</th>\n",
       "      <th>minority_status_sum</th>\n",
       "      <th>housing_status_sum</th>\n",
       "      <th>series_themes_sum</th>\n",
       "      <th>overall_hosp_linear_mean_value</th>\n",
       "      <th>patient_safety_score</th>\n",
       "    </tr>\n",
       "  </thead>\n",
       "  <tbody>\n",
       "    <tr>\n",
       "      <th>readmission_rate</th>\n",
       "      <td>1.000000</td>\n",
       "      <td>0.329813</td>\n",
       "      <td>0.002340</td>\n",
       "      <td>0.001001</td>\n",
       "      <td>0.005403</td>\n",
       "      <td>-0.005965</td>\n",
       "      <td>-0.003397</td>\n",
       "      <td>-0.243983</td>\n",
       "      <td>0.076006</td>\n",
       "    </tr>\n",
       "    <tr>\n",
       "      <th>average_hcc_beneficiary_risk_score</th>\n",
       "      <td>0.329813</td>\n",
       "      <td>1.000000</td>\n",
       "      <td>-0.003911</td>\n",
       "      <td>-0.007581</td>\n",
       "      <td>-0.006489</td>\n",
       "      <td>-0.008096</td>\n",
       "      <td>-0.002919</td>\n",
       "      <td>-0.365546</td>\n",
       "      <td>0.141655</td>\n",
       "    </tr>\n",
       "    <tr>\n",
       "      <th>socioeconomic_status_sum</th>\n",
       "      <td>0.002340</td>\n",
       "      <td>-0.003911</td>\n",
       "      <td>1.000000</td>\n",
       "      <td>0.999834</td>\n",
       "      <td>0.904073</td>\n",
       "      <td>0.803876</td>\n",
       "      <td>0.803951</td>\n",
       "      <td>-0.024493</td>\n",
       "      <td>0.027880</td>\n",
       "    </tr>\n",
       "    <tr>\n",
       "      <th>hh_characteristics_sum</th>\n",
       "      <td>0.001001</td>\n",
       "      <td>-0.007581</td>\n",
       "      <td>0.999834</td>\n",
       "      <td>1.000000</td>\n",
       "      <td>0.904128</td>\n",
       "      <td>0.804400</td>\n",
       "      <td>0.804296</td>\n",
       "      <td>-0.022847</td>\n",
       "      <td>0.026915</td>\n",
       "    </tr>\n",
       "    <tr>\n",
       "      <th>minority_status_sum</th>\n",
       "      <td>0.005403</td>\n",
       "      <td>-0.006489</td>\n",
       "      <td>0.904073</td>\n",
       "      <td>0.904128</td>\n",
       "      <td>1.000000</td>\n",
       "      <td>0.726689</td>\n",
       "      <td>0.726464</td>\n",
       "      <td>-0.023555</td>\n",
       "      <td>0.027267</td>\n",
       "    </tr>\n",
       "    <tr>\n",
       "      <th>housing_status_sum</th>\n",
       "      <td>-0.005965</td>\n",
       "      <td>-0.008096</td>\n",
       "      <td>0.803876</td>\n",
       "      <td>0.804400</td>\n",
       "      <td>0.726689</td>\n",
       "      <td>1.000000</td>\n",
       "      <td>0.999722</td>\n",
       "      <td>-0.017920</td>\n",
       "      <td>0.012085</td>\n",
       "    </tr>\n",
       "    <tr>\n",
       "      <th>series_themes_sum</th>\n",
       "      <td>-0.003397</td>\n",
       "      <td>-0.002919</td>\n",
       "      <td>0.803951</td>\n",
       "      <td>0.804296</td>\n",
       "      <td>0.726464</td>\n",
       "      <td>0.999722</td>\n",
       "      <td>1.000000</td>\n",
       "      <td>-0.023859</td>\n",
       "      <td>0.014200</td>\n",
       "    </tr>\n",
       "    <tr>\n",
       "      <th>overall_hosp_linear_mean_value</th>\n",
       "      <td>-0.243983</td>\n",
       "      <td>-0.365546</td>\n",
       "      <td>-0.024493</td>\n",
       "      <td>-0.022847</td>\n",
       "      <td>-0.023555</td>\n",
       "      <td>-0.017920</td>\n",
       "      <td>-0.023859</td>\n",
       "      <td>1.000000</td>\n",
       "      <td>-0.196852</td>\n",
       "    </tr>\n",
       "    <tr>\n",
       "      <th>patient_safety_score</th>\n",
       "      <td>0.076006</td>\n",
       "      <td>0.141655</td>\n",
       "      <td>0.027880</td>\n",
       "      <td>0.026915</td>\n",
       "      <td>0.027267</td>\n",
       "      <td>0.012085</td>\n",
       "      <td>0.014200</td>\n",
       "      <td>-0.196852</td>\n",
       "      <td>1.000000</td>\n",
       "    </tr>\n",
       "  </tbody>\n",
       "</table>\n",
       "</div>"
      ],
      "text/plain": [
       "                                    readmission_rate  \\\n",
       "readmission_rate                            1.000000   \n",
       "average_hcc_beneficiary_risk_score          0.329813   \n",
       "socioeconomic_status_sum                    0.002340   \n",
       "hh_characteristics_sum                      0.001001   \n",
       "minority_status_sum                         0.005403   \n",
       "housing_status_sum                         -0.005965   \n",
       "series_themes_sum                          -0.003397   \n",
       "overall_hosp_linear_mean_value             -0.243983   \n",
       "patient_safety_score                        0.076006   \n",
       "\n",
       "                                    average_hcc_beneficiary_risk_score  \\\n",
       "readmission_rate                                              0.329813   \n",
       "average_hcc_beneficiary_risk_score                            1.000000   \n",
       "socioeconomic_status_sum                                     -0.003911   \n",
       "hh_characteristics_sum                                       -0.007581   \n",
       "minority_status_sum                                          -0.006489   \n",
       "housing_status_sum                                           -0.008096   \n",
       "series_themes_sum                                            -0.002919   \n",
       "overall_hosp_linear_mean_value                               -0.365546   \n",
       "patient_safety_score                                          0.141655   \n",
       "\n",
       "                                    socioeconomic_status_sum  \\\n",
       "readmission_rate                                    0.002340   \n",
       "average_hcc_beneficiary_risk_score                 -0.003911   \n",
       "socioeconomic_status_sum                            1.000000   \n",
       "hh_characteristics_sum                              0.999834   \n",
       "minority_status_sum                                 0.904073   \n",
       "housing_status_sum                                  0.803876   \n",
       "series_themes_sum                                   0.803951   \n",
       "overall_hosp_linear_mean_value                     -0.024493   \n",
       "patient_safety_score                                0.027880   \n",
       "\n",
       "                                    hh_characteristics_sum  \\\n",
       "readmission_rate                                  0.001001   \n",
       "average_hcc_beneficiary_risk_score               -0.007581   \n",
       "socioeconomic_status_sum                          0.999834   \n",
       "hh_characteristics_sum                            1.000000   \n",
       "minority_status_sum                               0.904128   \n",
       "housing_status_sum                                0.804400   \n",
       "series_themes_sum                                 0.804296   \n",
       "overall_hosp_linear_mean_value                   -0.022847   \n",
       "patient_safety_score                              0.026915   \n",
       "\n",
       "                                    minority_status_sum  housing_status_sum  \\\n",
       "readmission_rate                               0.005403           -0.005965   \n",
       "average_hcc_beneficiary_risk_score            -0.006489           -0.008096   \n",
       "socioeconomic_status_sum                       0.904073            0.803876   \n",
       "hh_characteristics_sum                         0.904128            0.804400   \n",
       "minority_status_sum                            1.000000            0.726689   \n",
       "housing_status_sum                             0.726689            1.000000   \n",
       "series_themes_sum                              0.726464            0.999722   \n",
       "overall_hosp_linear_mean_value                -0.023555           -0.017920   \n",
       "patient_safety_score                           0.027267            0.012085   \n",
       "\n",
       "                                    series_themes_sum  \\\n",
       "readmission_rate                            -0.003397   \n",
       "average_hcc_beneficiary_risk_score          -0.002919   \n",
       "socioeconomic_status_sum                     0.803951   \n",
       "hh_characteristics_sum                       0.804296   \n",
       "minority_status_sum                          0.726464   \n",
       "housing_status_sum                           0.999722   \n",
       "series_themes_sum                            1.000000   \n",
       "overall_hosp_linear_mean_value              -0.023859   \n",
       "patient_safety_score                         0.014200   \n",
       "\n",
       "                                    overall_hosp_linear_mean_value  \\\n",
       "readmission_rate                                         -0.243983   \n",
       "average_hcc_beneficiary_risk_score                       -0.365546   \n",
       "socioeconomic_status_sum                                 -0.024493   \n",
       "hh_characteristics_sum                                   -0.022847   \n",
       "minority_status_sum                                      -0.023555   \n",
       "housing_status_sum                                       -0.017920   \n",
       "series_themes_sum                                        -0.023859   \n",
       "overall_hosp_linear_mean_value                            1.000000   \n",
       "patient_safety_score                                     -0.196852   \n",
       "\n",
       "                                    patient_safety_score  \n",
       "readmission_rate                                0.076006  \n",
       "average_hcc_beneficiary_risk_score              0.141655  \n",
       "socioeconomic_status_sum                        0.027880  \n",
       "hh_characteristics_sum                          0.026915  \n",
       "minority_status_sum                             0.027267  \n",
       "housing_status_sum                              0.012085  \n",
       "series_themes_sum                               0.014200  \n",
       "overall_hosp_linear_mean_value                 -0.196852  \n",
       "patient_safety_score                            1.000000  "
      ]
     },
     "execution_count": 33,
     "metadata": {},
     "output_type": "execute_result"
    }
   ],
   "source": [
    "correlation_matrix"
   ]
  },
  {
   "cell_type": "code",
   "execution_count": 40,
   "metadata": {},
   "outputs": [
    {
     "data": {
      "text/plain": [
       "<Axes: >"
      ]
     },
     "execution_count": 40,
     "metadata": {},
     "output_type": "execute_result"
    }
   ],
   "source": [
    "correlation_matrix = obt.drop(column_to_drop, axis=1).corr()\n"
   ]
  },
  {
   "cell_type": "code",
   "execution_count": 41,
   "metadata": {},
   "outputs": [
    {
     "data": {
      "text/plain": [
       "<Axes: >"
      ]
     },
     "execution_count": 41,
     "metadata": {},
     "output_type": "execute_result"
    }
   ],
   "source": [
    "fig, ax = plt.subplots(figsize=(12, 12))\n",
    "sns.heatmap(correlation_matrix, annot=True, cmap=\"coolwarm\", fmt=\".2f\", ax=ax)"
   ]
  },
  {
   "cell_type": "code",
   "execution_count": 44,
   "metadata": {},
   "outputs": [
    {
     "data": {
      "text/plain": [
       "<Axes: xlabel='socioeconomic_status_sum', ylabel='housing_status_sum'>"
      ]
     },
     "execution_count": 44,
     "metadata": {},
     "output_type": "execute_result"
    }
   ],
   "source": [
    "sns.scatterplot(x=\"socioeconomic_status_sum\", y=\"housing_status_sum\", data=obt)"
   ]
  }
 ],
 "metadata": {
  "kernelspec": {
   "display_name": "ds4a_py310",
   "language": "python",
   "name": "python3"
  },
  "language_info": {
   "codemirror_mode": {
    "name": "ipython",
    "version": 3
   },
   "file_extension": ".py",
   "mimetype": "text/x-python",
   "name": "python",
   "nbconvert_exporter": "python",
   "pygments_lexer": "ipython3",
   "version": "3.10.0"
  },
  "orig_nbformat": 4
 },
 "nbformat": 4,
 "nbformat_minor": 2
}
